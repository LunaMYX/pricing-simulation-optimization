{
 "cells": [
  {
   "cell_type": "markdown",
   "metadata": {},
   "source": [
    "# Lab 1\n"
   ]
  },
  {
   "cell_type": "markdown",
   "metadata": {},
   "source": [
    "## Excutive Summmary"
   ]
  },
  {
   "cell_type": "markdown",
   "metadata": {},
   "source": [
    "Based on simulation optimization, I recomment capacity rationing policy. Here are the optimization results:\n",
    "* Constant pricing policy: optimal $p = 250$, expected profit $= 2782.50$\n",
    "* Dynamic pricing policy: optimal $p1 = 235$, optimal $p2 = 315$, expected profit $= 3462.65$\n",
    "* Capacity rationing policy: optimal $p1 = 230$, optimal $p2 = 315$, optimal $l = 37$, expected profit $= 4002.12$\n",
    "\n",
    "Based on simualtion, adopting capacity rationing policy would increase the profit by $43.85\\%$ compared to the current constant price policy."
   ]
  },
  {
   "cell_type": "markdown",
   "metadata": {},
   "source": [
    "## Generating Customers"
   ]
  },
  {
   "cell_type": "code",
   "execution_count": 6,
   "metadata": {},
   "outputs": [],
   "source": [
    "import pandas as pd\n",
    "import numpy as np\n",
    "import matplotlib.pyplot as plt"
   ]
  },
  {
   "cell_type": "code",
   "execution_count": 7,
   "metadata": {},
   "outputs": [],
   "source": [
    "from scipy.stats import norm\n",
    "from scipy.stats import uniform\n",
    "from scipy.stats import binom"
   ]
  },
  {
   "cell_type": "code",
   "execution_count": 8,
   "metadata": {},
   "outputs": [],
   "source": [
    "def generateCustomers():\n",
    "    customers = []\n",
    "    sizeL = norm(200, 60).rvs()\n",
    "    sizeL = max(0,int(round(sizeL)))\n",
    "    for i in range(sizeL):\n",
    "        customers.append([uniform(0,180).rvs(), norm(200, 80).rvs()])\n",
    "    sizeB = norm(60,20).rvs()\n",
    "    sizeB = max(0,int(round(sizeB)))\n",
    "    for i in range(sizeB):\n",
    "        customers.append([uniform(0,14).rvs(), norm(350, 120).rvs()])\n",
    "    customers = pd.DataFrame(customers,columns=['arrival_time','valuation'])\\\n",
    "        .sort_values('arrival_time', ascending=False).reset_index(drop=True)\n",
    "    return customers"
   ]
  },
  {
   "cell_type": "markdown",
   "metadata": {},
   "source": [
    "## Simulating Pricing Policies"
   ]
  },
  {
   "cell_type": "code",
   "execution_count": 1,
   "metadata": {},
   "outputs": [],
   "source": [
    "def simulateConstant(customers,seats,p):\n",
    "    n = min(seats,(customers['valuation']>=p).sum())\n",
    "    return n*p"
   ]
  },
  {
   "cell_type": "code",
   "execution_count": 2,
   "metadata": {},
   "outputs": [],
   "source": [
    "def simulateDynamic(customers,seats,p1,p2):\n",
    "    revenue = 0\n",
    "    counter = 0\n",
    "    for i in customers.index:\n",
    "        if counter >= seats:\n",
    "            return revenue\n",
    "        elif customers.loc[i, 'arrival_time'] >= 14:\n",
    "            if customers.loc[i, 'valuation']>=p1:\n",
    "                revenue += p1\n",
    "                counter += 1\n",
    "        else:\n",
    "            if customers.loc[i, 'valuation']>=p2:\n",
    "                revenue += p2\n",
    "                counter += 1\n",
    "    return revenue"
   ]
  },
  {
   "cell_type": "code",
   "execution_count": 3,
   "metadata": {},
   "outputs": [],
   "source": [
    "def simulateRationing(customers,seats,p1,p2,l):\n",
    "    revenue = 0\n",
    "    counter = 0\n",
    "    for i in customers.index:\n",
    "        if counter >= seats:\n",
    "            return revenue\n",
    "        elif seats-counter > l:\n",
    "            if customers.loc[i, 'valuation']>=p1:\n",
    "                revenue += p1\n",
    "                counter += 1\n",
    "        else:\n",
    "            if customers.loc[i, 'valuation']>=p2:\n",
    "                revenue += p2\n",
    "                counter += 1\n",
    "    return revenue"
   ]
  },
  {
   "cell_type": "markdown",
   "metadata": {},
   "source": [
    "## Optimazing Parameters"
   ]
  },
  {
   "cell_type": "markdown",
   "metadata": {},
   "source": [
    "#### Generate 100 scenarios"
   ]
  },
  {
   "cell_type": "code",
   "execution_count": 9,
   "metadata": {},
   "outputs": [],
   "source": [
    "scenarios = []\n",
    "for i in range(100):\n",
    "    scenarios.append(generateCustomers())"
   ]
  },
  {
   "cell_type": "markdown",
   "metadata": {},
   "source": [
    "#### Optimize constant pricing policy"
   ]
  },
  {
   "cell_type": "code",
   "execution_count": 10,
   "metadata": {},
   "outputs": [
    {
     "name": "stdout",
     "output_type": "stream",
     "text": [
      "Constant price policy: best p = 250 , best expected profit = 2782.50\n",
      "------\n",
      "CPU times: user 4.37 s, sys: 27.5 ms, total: 4.39 s\n",
      "Wall time: 4.43 s\n"
     ]
    }
   ],
   "source": [
    "%%time\n",
    "bestRvenue = 0\n",
    "bestPrice = 0\n",
    "for p in range(0,800,5):\n",
    "    totalRevnue = 0\n",
    "    for customers in scenarios:\n",
    "        totalRevnue += simulateConstant(customers,100,p)\n",
    "    totalRevnue = round(totalRevnue/len(scenarios),2)\n",
    "    if totalRevnue > bestRvenue:\n",
    "        bestPrice = p\n",
    "        bestRvenue = totalRevnue\n",
    "print('Constant price policy: best p = %d , best expected profit = %.2f'%(bestPrice, bestRvenue-20000))\n",
    "print('------')"
   ]
  },
  {
   "cell_type": "markdown",
   "metadata": {},
   "source": [
    "#### Optimize dynamic pricing policy"
   ]
  },
  {
   "cell_type": "code",
   "execution_count": 11,
   "metadata": {},
   "outputs": [
    {
     "name": "stdout",
     "output_type": "stream",
     "text": [
      "Dynamic price policy: best p1 = 235 , best p2 = 315 , best expected profit = 3462.65\n",
      "------\n",
      "CPU times: user 3h 9min 26s, sys: 38.7 s, total: 3h 10min 5s\n",
      "Wall time: 6h 45min 15s\n"
     ]
    }
   ],
   "source": [
    "%%time\n",
    "prices = []\n",
    "for i in range(0,800,5):\n",
    "    for j in range(i,800,5):\n",
    "        prices.append([i,j])\n",
    "bestRvenue = 0\n",
    "bestP1, bestP2 = 0, 0    \n",
    "for p1, p2 in prices:\n",
    "    totalRevnue = 0\n",
    "    for customers in scenarios:\n",
    "        totalRevnue += simulateDynamic(customers,100,p1,p2)\n",
    "    totalRevnue = round(totalRevnue/len(scenarios),2)\n",
    "    if totalRevnue > bestRvenue:\n",
    "        bestP1, bestP2 = p1, p2\n",
    "        bestRvenue = totalRevnue\n",
    "print('Dynamic price policy: best p1 = %d , best p2 = %d , best expected profit = %.2f'\\\n",
    "      %(bestP1, bestP2, bestRvenue-20000))\n",
    "print('------')"
   ]
  },
  {
   "cell_type": "markdown",
   "metadata": {},
   "source": [
    "#### Optimize capacity rationing policy\n",
    "Since this part would take too long if iterite through all possible p1, p2 and l, we use big steps in the loop first and try to narrow down the range of candidates for each parameters. This part consist 4 rounds, and the last one is my final result."
   ]
  },
  {
   "cell_type": "code",
   "execution_count": 16,
   "metadata": {},
   "outputs": [
    {
     "name": "stdout",
     "output_type": "stream",
     "text": [
      "First round: best p1 = 250 , best p2 = 350 , best l = 20 , best profit = 3551.54\n",
      "------\n",
      "CPU times: user 1min 30s, sys: 470 ms, total: 1min 31s\n",
      "Wall time: 1min 32s\n"
     ]
    }
   ],
   "source": [
    "%%time\n",
    "prices = []\n",
    "for i in range(200,600,50):\n",
    "    for j in range(i,600,50):\n",
    "        prices.append([i,j])\n",
    "bestRvenue = 0\n",
    "bestP1, bestP2, bestl = 0, 0, 0\n",
    "for p1, p2 in prices:\n",
    "    totalRevnue = 0\n",
    "    for l in range(0,100,10):\n",
    "        for customers in scenarios:\n",
    "            totalRevnue += simulateRationing(customers,100,p1,p2,l)\n",
    "        totalRevnue = round(totalRevnue/len(scenarios),2)\n",
    "        if totalRevnue > bestRvenue:\n",
    "            bestP1, bestP2, bestl = p1, p2, l\n",
    "            bestRvenue = totalRevnue\n",
    "print('First round: best p1 = %d , best p2 = %d , best l = %d , best profit = %.2f'\\\n",
    "      %(bestP1, bestP2, bestl, bestRvenue-20000))\n",
    "print('------')"
   ]
  },
  {
   "cell_type": "code",
   "execution_count": 18,
   "metadata": {},
   "outputs": [
    {
     "name": "stdout",
     "output_type": "stream",
     "text": [
      "Second round: best p1 = 220 , best p2 = 340 , best l = 30 , best profit = 3883.59\n",
      "------\n",
      "CPU times: user 2min 17s, sys: 770 ms, total: 2min 18s\n",
      "Wall time: 2min 19s\n"
     ]
    }
   ],
   "source": [
    "%%time\n",
    "prices = []\n",
    "for i in range(200,400,20):\n",
    "    for j in range(i,400,20):\n",
    "        prices.append([i,j])\n",
    "bestRvenue = 0\n",
    "bestP1, bestP2, bestl = 0, 0, 0\n",
    "for p1, p2 in prices:\n",
    "    totalRevnue = 0\n",
    "    for l in range(0,100,10):\n",
    "        for customers in scenarios:\n",
    "            totalRevnue += simulateRationing(customers,100,p1,p2,l)\n",
    "        totalRevnue = round(totalRevnue/len(scenarios),2)\n",
    "        if totalRevnue > bestRvenue:\n",
    "            bestP1, bestP2, bestl = p1, p2, l\n",
    "            bestRvenue = totalRevnue\n",
    "print('Second round: best p1 = %d , best p2 = %d , best l = %d , best profit = %.2f'\\\n",
    "      %(bestP1, bestP2, bestl, bestRvenue-20000))\n",
    "print('------')"
   ]
  },
  {
   "cell_type": "code",
   "execution_count": 20,
   "metadata": {},
   "outputs": [
    {
     "name": "stdout",
     "output_type": "stream",
     "text": [
      "Third round: best p1 = 230 , best p2 = 320 , best l = 35 , best profit = 3986.27\n",
      "------\n",
      "CPU times: user 6min 46s, sys: 2.15 s, total: 6min 48s\n",
      "Wall time: 6min 57s\n"
     ]
    }
   ],
   "source": [
    "%%time\n",
    "prices = []\n",
    "for i in range(200,300,10):\n",
    "    for j in range(300,400,10):\n",
    "        prices.append([i,j])\n",
    "bestRvenue = 0\n",
    "bestP1, bestP2, bestl = 0, 0, 0\n",
    "for p1, p2 in prices:\n",
    "    totalRevnue = 0\n",
    "    for l in range(0,80,5):\n",
    "        for customers in scenarios:\n",
    "            totalRevnue += simulateRationing(customers,100,p1,p2,l)\n",
    "        totalRevnue = round(totalRevnue/len(scenarios),2)\n",
    "        if totalRevnue > bestRvenue:\n",
    "            bestP1, bestP2, bestl = p1, p2, l\n",
    "            bestRvenue = totalRevnue\n",
    "print('Third round: best p1 = %d , best p2 = %d , best l = %d , best profit = %.2f'\\\n",
    "      %(bestP1, bestP2, bestl, bestRvenue-20000))\n",
    "print('------')"
   ]
  },
  {
   "cell_type": "code",
   "execution_count": 21,
   "metadata": {},
   "outputs": [
    {
     "name": "stdout",
     "output_type": "stream",
     "text": [
      "Capacity rationing policy: best p1 = 230 , best p2 = 315 , best l = 37 , best profit = 4002.12\n",
      "------\n",
      "CPU times: user 16min 10s, sys: 4.23 s, total: 16min 15s\n",
      "Wall time: 1h 14min 53s\n"
     ]
    }
   ],
   "source": [
    "%%time\n",
    "prices = []\n",
    "for i in range(200,250,5):\n",
    "    for j in range(300,350,5):\n",
    "        prices.append([i,j])\n",
    "bestRvenue = 0\n",
    "bestP1, bestP2, bestl = 0, 0, 0\n",
    "for p1, p2 in prices:\n",
    "    totalRevnue = 0\n",
    "    for l in range(10,50,1):\n",
    "        for customers in scenarios:\n",
    "            totalRevnue += simulateRationing(customers,100,p1,p2,l)\n",
    "        totalRevnue = round(totalRevnue/len(scenarios),2)\n",
    "        if totalRevnue > bestRvenue:\n",
    "            bestP1, bestP2, bestl = p1, p2, l\n",
    "            bestRvenue = totalRevnue\n",
    "print('Capacity rationing policy: best p1 = %d , best p2 = %d , best l = %d , best profit = %.2f'\\\n",
    "      %(bestP1, bestP2, bestl, bestRvenue-20000))\n",
    "print('------')"
   ]
  },
  {
   "cell_type": "markdown",
   "metadata": {},
   "source": [
    "## Testing"
   ]
  },
  {
   "cell_type": "code",
   "execution_count": 68,
   "metadata": {},
   "outputs": [
    {
     "data": {
      "text/plain": [
       "<matplotlib.axes._subplots.AxesSubplot at 0x1038daf98>"
      ]
     },
     "execution_count": 68,
     "metadata": {},
     "output_type": "execute_result"
    },
    {
     "data": {
      "image/png": "[encoded data removed]",
      "text/plain": [
       "<Figure size 432x288 with 1 Axes>"
      ]
     },
     "metadata": {
      "needs_background": "light"
     },
     "output_type": "display_data"
    }
   ],
   "source": [
    "np.random.seed(0)\n",
    "generateCustomers().plot(x='arrival_time',y='valuation',kind='scatter')"
   ]
  },
  {
   "cell_type": "code",
   "execution_count": 23,
   "metadata": {},
   "outputs": [
    {
     "name": "stdout",
     "output_type": "stream",
     "text": [
      "Constant policy with 2 seats p=50 \t: 100\n",
      "Constant policy with 2 seats p=100 \t: 100\n",
      "Dynamic policy with 3 seats p1=40, p2=95 \t: 175\n",
      "Dynamic policy with 2 seats p1=40, p2=95 \t: 80\n",
      "Dynamic policy with 1 seats p1=50, p2=100 \t: 50\n",
      "Rationing policy with 3 seats p1=40, p2=100, l=1 \t: 180\n",
      "Rationing policy with 2 seats p1=40, p2=100, l=1 \t: 140\n",
      "Rationing policy with 1 seats p1=40, p2=95, l=1 \t: 95\n"
     ]
    }
   ],
   "source": [
    "import pandas as pd\n",
    "data=[[170,50],[150,40],[13,95],[12,100]]\n",
    "customers=pd.DataFrame(data,columns=['arrival_time','valuation'])\n",
    "print('Constant policy with 2 seats p=50 \\t:',simulateConstant(customers,2,50))\n",
    "print('Constant policy with 2 seats p=100 \\t:',simulateConstant(customers,2,100))\n",
    "print('Dynamic policy with 3 seats p1=40, p2=95 \\t:',simulateDynamic(customers,3,40,95))\n",
    "print('Dynamic policy with 2 seats p1=40, p2=95 \\t:',simulateDynamic(customers,2,40,95))\n",
    "print('Dynamic policy with 1 seats p1=50, p2=100 \\t:',simulateDynamic(customers,1,50,100))\n",
    "print('Rationing policy with 3 seats p1=40, p2=100, l=1 \\t:',\\\n",
    "        simulateRationing(customers,3,40,100,1))\n",
    "print('Rationing policy with 2 seats p1=40, p2=100, l=1 \\t:',\\\n",
    "        simulateRationing(customers,2,40,100,1))\n",
    "print('Rationing policy with 1 seats p1=40, p2=95, l=1 \\t:',\\\n",
    "simulateRationing(customers,1,40,95,1))"
   ]
  },
  {
   "cell_type": "code",
   "execution_count": null,
   "metadata": {},
   "outputs": [],
   "source": []
  }
 ],
 "metadata": {
  "kernelspec": {
   "display_name": "Python 3",
   "language": "python",
   "name": "python3"
  },
  "language_info": {
   "codemirror_mode": {
    "name": "ipython",
    "version": 3
   },
   "file_extension": ".py",
   "mimetype": "text/x-python",
   "name": "python",
   "nbconvert_exporter": "python",
   "pygments_lexer": "ipython3",
   "version": "3.7.2"
  }
 },
 "nbformat": 4,
 "nbformat_minor": 2
}
